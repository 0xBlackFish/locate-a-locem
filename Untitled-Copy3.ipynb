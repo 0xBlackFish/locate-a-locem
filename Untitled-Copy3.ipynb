{
 "cells": [
  {
   "cell_type": "code",
   "execution_count": 1,
   "metadata": {},
   "outputs": [],
   "source": [
    "from google.cloud import storage\n",
    "from io import StringIO\n",
    "import numpy as np\n",
    "import altair as alt\n",
    "import pandas as pd\n",
    "from tqdm import tqdm\n",
    "from math import sin, cos, sqrt, atan2, radians"
   ]
  },
  {
   "cell_type": "code",
   "execution_count": 2,
   "metadata": {},
   "outputs": [],
   "source": [
    "client = storage.Client()"
   ]
  },
  {
   "cell_type": "code",
   "execution_count": 3,
   "metadata": {},
   "outputs": [],
   "source": [
    "bucket = client.get_bucket('locate-a-locum-m2-analytics')"
   ]
  },
  {
   "cell_type": "code",
   "execution_count": 4,
   "metadata": {},
   "outputs": [],
   "source": [
    "def convert_csv_to_output(filename):\n",
    "    \n",
    "    blob = bucket.get_blob(filename)\n",
    "    bt = blob.download_as_string()\n",
    "    s = str(bt,'utf-8')\n",
    "    s = StringIO(s)\n",
    "    \n",
    "    return s"
   ]
  },
  {
   "cell_type": "code",
   "execution_count": 5,
   "metadata": {},
   "outputs": [],
   "source": [
    "shifts_df = pd.read_csv(convert_csv_to_output('sample-data-shifts.csv'),parse_dates=['Posted Date','Start Time','End Time'])\n",
    "users_df = pd.read_csv(convert_csv_to_output('sample-data-users.csv'),parse_dates=['Created Date'])\n",
    "applications_df = pd.read_csv(convert_csv_to_output('sample-data-applications.csv'))"
   ]
  },
  {
   "cell_type": "code",
   "execution_count": 6,
   "metadata": {},
   "outputs": [],
   "source": [
    "shifts_df['Latitude'] = shifts_df['Latitude'].apply(lambda x: float(x))"
   ]
  },
  {
   "cell_type": "code",
   "execution_count": 7,
   "metadata": {},
   "outputs": [],
   "source": [
    "def calculate_shift_distance_to_user(user_latitude, user_longitude, shift_latitude, shift_longitude):\n",
    "    '''Calculates shift distance to user'''\n",
    "    # Calculate difference between user latitude and shift latitude\n",
    "    latitude_difference = user_latitude - shift_latitude\n",
    "    \n",
    "    # Calculate difference between user longitude and shift longitude\n",
    "    longitude_difference = user_longitude - shift_longitude\n",
    "    \n",
    "    # Apply haversine formula to calculat distance\n",
    "    R = radius_of_the_earth = 6373.0\n",
    "    \n",
    "    a = sin(latitude_difference / 2)**2 + cos(user_latitude) * cos(shift_latitude) * sin(longitude_difference / 2)**2\n",
    "    c = 2 * atan2(sqrt(a), sqrt(1 - a))\n",
    "\n",
    "    shift_distance_to_user = R * c\n",
    "    \n",
    "    return shift_distance_to_user\n",
    "\n",
    "\n",
    "\n",
    "def is_user_eligible_for_shift(user_create_date, shift_post_date):\n",
    "    '''Determines if a user is eligible for a shift'''\n",
    "    # Compare user create date to shift post date\n",
    "    eligibility_ind = False\n",
    "    \n",
    "    if user_create_date <= shift_post_date:\n",
    "        eligibility_ind = True\n",
    "    \n",
    "    return eligibility_ind\n",
    "\n",
    "\n",
    "\n",
    "def count_eligible_shifts(user_create_date):\n",
    "    '''Counts shifts that a user is eligible for'''\n",
    "    # Create list of shift dates\n",
    "    shift_dates = shifts_df['Posted Date'].tolist()\n",
    "    \n",
    "    # Sum the user eligible shifts by feeding the shift dates and user create dates into the eligibility function\n",
    "    shifts_eligible_cnt = sum([is_user_eligible_for_shift(user_create_date, date) for date in shift_dates])\n",
    "\n",
    "    return shifts_eligible_cnt\n",
    "\n",
    "\n",
    "\n",
    "def count_shifts_in_radius(user_create_date, user_latitude, user_longitude, travel_radius):\n",
    "    '''Counts shifts in a user's work radius'''\n",
    "    # Determine whether a shift is eligible for counting\n",
    "    shift_dates = shifts_df['Posted Date'].tolist()\n",
    "    \n",
    "    eligbile_shifts = [is_user_eligible_for_shift(user_create_date, date) for date in shift_dates]\n",
    "    \n",
    "    shift_coordinates = list(shifts_df[['Latitude','Longitude']][eligbile_shifts].to_records(index=False))\n",
    "    \n",
    "    # Sum the user eligible shifts that are less than or equal to the user travel radius by feeding the user lat/long and shift lat/long into the calculate shift distance to user function\n",
    "    in_radius_cnt = sum([calculate_shift_distance_to_user(user_latitude, user_longitude, shift_latitude, shift_longitude) <= travel_radius for shift_latitude, shift_longitude in shift_coordinates])\n",
    " \n",
    "    return in_radius_cnt"
   ]
  },
  {
   "cell_type": "code",
   "execution_count": 8,
   "metadata": {},
   "outputs": [],
   "source": [
    "users_test_df = users_df.iloc[15000:]"
   ]
  },
  {
   "cell_type": "code",
   "execution_count": 9,
   "metadata": {},
   "outputs": [
    {
     "name": "stderr",
     "output_type": "stream",
     "text": [
      "<ipython-input-9-0014165f0f78>:2: SettingWithCopyWarning: \n",
      "A value is trying to be set on a copy of a slice from a DataFrame.\n",
      "Try using .loc[row_indexer,col_indexer] = value instead\n",
      "\n",
      "See the caveats in the documentation: https://pandas.pydata.org/pandas-docs/stable/user_guide/indexing.html#returning-a-view-versus-a-copy\n",
      "  users_test_df['shifts_in_radius'] = np.vectorize(count_shifts_in_radius)(users_test_df['Created Date'], users_test_df['Latitude'], users_test_df['Longitude'], users_test_df['Travel Radius'])\n",
      "<ipython-input-9-0014165f0f78>:3: SettingWithCopyWarning: \n",
      "A value is trying to be set on a copy of a slice from a DataFrame.\n",
      "Try using .loc[row_indexer,col_indexer] = value instead\n",
      "\n",
      "See the caveats in the documentation: https://pandas.pydata.org/pandas-docs/stable/user_guide/indexing.html#returning-a-view-versus-a-copy\n",
      "  users_test_df['shifts_eligible'] = users_test_df['Created Date'].apply(count_eligible_shifts)\n"
     ]
    }
   ],
   "source": [
    "# np.vectorize(count_shifts_in_radius)(list(users_test_df[['Created Date','Latitude','Longitude','Travel Radius']].to_records(index=False)))\n",
    "users_test_df['shifts_in_radius'] = np.vectorize(count_shifts_in_radius)(users_test_df['Created Date'], users_test_df['Latitude'], users_test_df['Longitude'], users_test_df['Travel Radius'])\n",
    "users_test_df['shifts_eligible'] = users_test_df['Created Date'].apply(count_eligible_shifts)"
   ]
  },
  {
   "cell_type": "code",
   "execution_count": 12,
   "metadata": {},
   "outputs": [],
   "source": [
    "new_users_df = users_test_df.reset_index()\n",
    "new_users_df.drop(labels=['index'],axis=1,inplace=True)\n",
    "\n",
    "new_users_df.to_feather('users_15000_end.feather')"
   ]
  },
  {
   "cell_type": "code",
   "execution_count": null,
   "metadata": {},
   "outputs": [],
   "source": []
  }
 ],
 "metadata": {
  "kernelspec": {
   "display_name": "Python 3",
   "language": "python",
   "name": "python3"
  },
  "language_info": {
   "codemirror_mode": {
    "name": "ipython",
    "version": 3
   },
   "file_extension": ".py",
   "mimetype": "text/x-python",
   "name": "python",
   "nbconvert_exporter": "python",
   "pygments_lexer": "ipython3",
   "version": "3.8.5"
  }
 },
 "nbformat": 4,
 "nbformat_minor": 4
}
